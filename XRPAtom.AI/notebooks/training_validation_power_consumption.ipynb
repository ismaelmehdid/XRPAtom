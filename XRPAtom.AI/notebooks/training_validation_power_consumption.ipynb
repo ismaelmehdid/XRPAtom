{
 "cells": [
  {
   "cell_type": "code",
   "execution_count": null,
   "metadata": {},
   "outputs": [],
   "source": [
    "from dotenv import load_dotenv, find_dotenv\n",
    "from pathlib import Path\n",
    "import os\n",
    "import torch\n",
    "\n",
    "from training.power_consumption_trainer import PowerConsumptionTrainer\n",
    "from training.power_consumption_validator import PowerConsumptionValidator\n",
    "from datasets.power_consumption.power_consumtion_dataset import PowerConsumptionDataset\n",
    "from models.lstm_model import LSTMModel\n",
    "\n",
    "\n",
    "load_dotenv(find_dotenv())\n",
    "\n",
    "\n",
    "    \n",
    "# Example usage\n",
    "config = {\n",
    "    \"data_path\": Path('../data'),\n",
    "    \"weather_api_base_url\": os.getenv(\"WEATHER_API_BASE_URL\"),\n",
    "    \"batch_size\": 32,\n",
    "    \"lr_hourly_model\": 0.001,\n",
    "    \"lr_daily_model\": 0.001,\n",
    "}\n",
    "\n",
    "dataset = PowerConsumptionDataset(config=config)\n",
    "models = {\n",
    "    \"hourly\": LSTMModel(input_size=5, hidden_size=5, dropout_rate=0.2, output_size=1),\n",
    "    \"daily\": LSTMModel(input_size=5, hidden_size=5, dropout_rate=0.2, output_size=1),\n",
    "}\n",
    "train_size = int(0.8 * len(dataset))\n",
    "val_size = len(dataset) - train_size\n",
    "train_dataset, val_dataset = torch.utils.data.random_split(dataset, [train_size, val_size])\n",
    "\n",
    "validator = PowerConsumptionValidator(models=models, val_dataset=val_dataset, config=config)\n",
    "trainer = PowerConsumptionTrainer(models=models, train_dataset=dataset, validator=validator, config=config)\n",
    "\n",
    "trainer.train(epochs=10)"
   ]
  },
  {
   "cell_type": "code",
   "execution_count": null,
   "id": "fac08fda",
   "metadata": {},
   "outputs": [],
   "source": []
  }
 ],
 "metadata": {
  "kernelspec": {
   "display_name": "block",
   "language": "python",
   "name": "python3"
  },
  "language_info": {
   "codemirror_mode": {
    "name": "ipython",
    "version": 3
   },
   "file_extension": ".py",
   "mimetype": "text/x-python",
   "name": "python",
   "nbconvert_exporter": "python",
   "pygments_lexer": "ipython3",
   "version": "3.12.9"
  }
 },
 "nbformat": 4,
 "nbformat_minor": 5
}
